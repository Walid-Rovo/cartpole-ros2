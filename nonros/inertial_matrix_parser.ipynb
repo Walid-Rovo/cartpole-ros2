{
 "cells": [
  {
   "cell_type": "code",
   "execution_count": 44,
   "metadata": {},
   "outputs": [
    {
     "name": "stdout",
     "output_type": "stream",
     "text": [
      "<inertia ixx=\"0.00023937842520000002\" ixy=\"0.0\" ixz=\"-0.0\" iyy=\"0.000508788736\" iyz=\"6.076120000000001e-08\" izz=\"0.0005361586786\" />\n"
     ]
    }
   ],
   "source": [
    "import io\n",
    "import itertools\n",
    "from dict2xml import dict2xml\n",
    "\n",
    "SCALE = 1e-9\n",
    "FILE = 'beam_info.csv'\n",
    "MAT_NAME = \"Matrix inertia with mass\"\n",
    "\n",
    "inertial_elems = {'ixx': 0.0,'ixy': 0.0,'ixz': 0.0,'iyy': 0.0,'iyz': 0.0, 'izz': 0.0}\n",
    "\n",
    "with io.open(FILE, mode=\"r\", encoding=\"utf-8\") as f:\n",
    "    # find line starting with Matrix inertia with mass\n",
    "    f = f.readlines()\n",
    "    inertia_mat_idx = 0\n",
    "    for idx, line in enumerate(f):\n",
    "        if MAT_NAME in line:\n",
    "            inertia_mat_idx = idx\n",
    "    # get next three lines into a list (empty string for nonexistent lines)\n",
    "    mat_lines = []\n",
    "    for i in range(1, 4):\n",
    "        mat_lines.append(f[i + inertia_mat_idx])\n",
    "    # get the rows out of the lines\n",
    "    mat_rows = []\n",
    "    for line in mat_lines:\n",
    "        mat_rows.append(line.strip().split(','))\n",
    "    # get the individual elements\n",
    "    mat_elems = list(itertools.chain.from_iterable(mat_rows))\n",
    "    # parse floats\n",
    "    mat_elems_float = []\n",
    "    for idx, elem in enumerate(mat_elems):\n",
    "        try:\n",
    "            mat_elems_float.append(float(elem))\n",
    "        except ValueError:\n",
    "            pass\n",
    "    \n",
    "    inertial_elems['ixx'] = mat_elems_float[0] * SCALE\n",
    "    inertial_elems['ixy'] = mat_elems_float[1] * SCALE\n",
    "    inertial_elems['ixz'] = mat_elems_float[2] * SCALE\n",
    "    inertial_elems['iyy'] = mat_elems_float[4] * SCALE\n",
    "    inertial_elems['iyz'] = mat_elems_float[5] * SCALE\n",
    "    inertial_elems['izz'] = mat_elems_float[8] * SCALE\n",
    "\n",
    "flat_xml_string = '<inertia '\n",
    "for k, v in inertial_elems.items():\n",
    "    flat_xml_string += f'{k}=\"{v}\" '\n",
    "flat_xml_string += '/>'\n",
    "print(flat_xml_string)"
   ]
  }
 ],
 "metadata": {
  "kernelspec": {
   "display_name": "Python 3",
   "language": "python",
   "name": "python3"
  },
  "language_info": {
   "codemirror_mode": {
    "name": "ipython",
    "version": 3
   },
   "file_extension": ".py",
   "mimetype": "text/x-python",
   "name": "python",
   "nbconvert_exporter": "python",
   "pygments_lexer": "ipython3",
   "version": "3.8.10"
  },
  "orig_nbformat": 4,
  "vscode": {
   "interpreter": {
    "hash": "916dbcbb3f70747c44a77c7bcd40155683ae19c65e1c03b4aa3499c5328201f1"
   }
  }
 },
 "nbformat": 4,
 "nbformat_minor": 2
}
